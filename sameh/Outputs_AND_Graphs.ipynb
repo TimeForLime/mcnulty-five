{
 "cells": [
  {
   "cell_type": "code",
   "execution_count": 14,
   "metadata": {
    "collapsed": true
   },
   "outputs": [],
   "source": [
    "import numpy as np\n",
    "import matplotlib.pyplot as plt\n",
    "import pandas as pd\n",
    "from matplotlib.pylab import rcParams\n",
    "\n",
    "%matplotlib inline"
   ]
  },
  {
   "cell_type": "code",
   "execution_count": null,
   "metadata": {
    "collapsed": true
   },
   "outputs": [],
   "source": []
  },
  {
   "cell_type": "markdown",
   "metadata": {},
   "source": [
    "### Histogram of Patients by Age"
   ]
  },
  {
   "cell_type": "code",
   "execution_count": 27,
   "metadata": {
    "collapsed": true
   },
   "outputs": [],
   "source": [
    "ages = \"\"\"15 |  8111\n",
    "       16 |     8\n",
    "       17 |    23\n",
    "       18 |    69\n",
    "       19 |   134\n",
    "       20 |   156\n",
    "       21 |   192\n",
    "       22 |   213\n",
    "       23 |   217\n",
    "       24 |   209\n",
    "       25 |   216\n",
    "       26 |   209\n",
    "       27 |   206\n",
    "       28 |   175\n",
    "       29 |   217\n",
    "       30 |   195\n",
    "       31 |   199\n",
    "       32 |   198\n",
    "       33 |   227\n",
    "       34 |   253\n",
    "       35 |   275\n",
    "       36 |   258\n",
    "       37 |   264\n",
    "       38 |   324\n",
    "       39 |   332\n",
    "       40 |   385\n",
    "       41 |   397\n",
    "       42 |   399\n",
    "       43 |   450\n",
    "       44 |   480\n",
    "       45 |   539\n",
    "       46 |   578\n",
    "       47 |   635\n",
    "       48 |   646\n",
    "       49 |   659\n",
    "       50 |   703\n",
    "       51 |   758\n",
    "       52 |   794\n",
    "       53 |   807\n",
    "       54 |   860\n",
    "       55 |   874\n",
    "       56 |   916\n",
    "       57 |   907\n",
    "       58 |   981\n",
    "       59 |  1016\n",
    "       60 |   983\n",
    "       61 |  1026\n",
    "       62 |  1084\n",
    "       63 |  1075\n",
    "       64 |  1034\n",
    "       65 |  1064\n",
    "       66 |  1043\n",
    "       67 |  1081\n",
    "       68 |  1044\n",
    "       69 |  1082\n",
    "       70 |  1096\n",
    "       71 |   962\n",
    "       72 |  1008\n",
    "       73 |  1043\n",
    "       74 |   962\n",
    "       75 |  1027\n",
    "       76 |  1074\n",
    "       77 |  1086\n",
    "       78 |  1115\n",
    "       79 |  1137\n",
    "       80 |  1048\n",
    "       81 |  1052\n",
    "       82 |  1047\n",
    "       83 |   933\n",
    "       84 |   970\n",
    "       85 |   958\n",
    "       86 |   784\n",
    "       87 |   754\n",
    "       88 |   575\n",
    "       89 |   548\n",
    "       90 |     1\n",
    "      101 |  2616\"\"\""
   ]
  },
  {
   "cell_type": "code",
   "execution_count": 37,
   "metadata": {
    "collapsed": false
   },
   "outputs": [
    {
     "name": "stdout",
     "output_type": "stream",
     "text": [
      "48249\n"
     ]
    }
   ],
   "source": [
    "list_ages = ages.split(\"\\n\")\n",
    "final_ages = []\n",
    "for age in list_ages:\n",
    "    age = age.strip().split(\" | \")\n",
    "    age[0] = int(age[0]) \n",
    "    age[1] = int(age[1])\n",
    "    final_ages.append(age)\n",
    "final_ages = np.array(final_ages)\n",
    "\n",
    "#Number of patients identified between ages 15 and 90.\n",
    "print sum(final_ages[:,1]) - final_ages[0, 1] - final_ages[-1, 1]"
   ]
  },
  {
   "cell_type": "code",
   "execution_count": 38,
   "metadata": {
    "collapsed": false
   },
   "outputs": [
    {
     "data": {
      "text/plain": [
       "<matplotlib.text.Text at 0x9c0b080>"
      ]
     },
     "execution_count": 38,
     "metadata": {},
     "output_type": "execute_result"
    },
    {
     "data": {
      "image/png": "[encoded data removed]",
      "text/plain": [
       "<matplotlib.figure.Figure at 0xa95cc18>"
      ]
     },
     "metadata": {},
     "output_type": "display_data"
    }
   ],
   "source": [
    "plt.bar(final_ages[1:-1, 0], final_ages[1:-1, 1])\n",
    "plt.title(\"Histogram of Age in ICU\")\n",
    "plt.xlabel(\"Age (years)\")\n",
    "plt.ylabel(\"Number of patients\")"
   ]
  },
  {
   "cell_type": "markdown",
   "metadata": {},
   "source": [
    "### % Mortality in hospital, 30 day and 1 year"
   ]
  },
  {
   "cell_type": "raw",
   "metadata": {},
   "source": [
    " numpat | hospmort | hospmort30day | hospmort1yr \n",
    "--------+----------+---------------+-------------\n",
    "  49359 |  11.6169 |       13.8820 |     27.9361"
   ]
  },
  {
   "cell_type": "markdown",
   "metadata": {},
   "source": [
    "NOTE: Useful code that gets most recent admission for a given patient\n",
    "    \n",
    "    `SELECT adm.hadm_id, admittime, dischtime, adm.deathtime, pat.dod\n",
    "    -- integer which is 1 for the most recent hospital admission\n",
    "    , ROW_NUMBER() OVER (PARTITION BY hadm_id ORDER BY admittime DESC) AS mostrecent\n",
    "    FROM admissions adm`"
   ]
  },
  {
   "cell_type": "markdown",
   "metadata": {},
   "source": [
    "### Histogram for Heart Rate of Adult Patients"
   ]
  },
  {
   "cell_type": "code",
   "execution_count": 43,
   "metadata": {
    "collapsed": true
   },
   "outputs": [],
   "source": [
    "    hrs = \"\"\"2 |      9\n",
    "      3 |     11\n",
    "      4 |     12\n",
    "      5 |     10\n",
    "      6 |      7\n",
    "      7 |     14\n",
    "      8 |     12\n",
    "      9 |     12\n",
    "     10 |     10\n",
    "     11 |     18\n",
    "     12 |     12\n",
    "     13 |     21\n",
    "     14 |     12\n",
    "     15 |      7\n",
    "     16 |     17\n",
    "     17 |     20\n",
    "     18 |     29\n",
    "     19 |     23\n",
    "     20 |     26\n",
    "     21 |     68\n",
    "     22 |     50\n",
    "     23 |     48\n",
    "     24 |     51\n",
    "     25 |     58\n",
    "     26 |     69\n",
    "     27 |     96\n",
    "     28 |     88\n",
    "     29 |    109\n",
    "     30 |    129\n",
    "     31 |    219\n",
    "     32 |    195\n",
    "     33 |    249\n",
    "     34 |    307\n",
    "     35 |    415\n",
    "     36 |    587\n",
    "     37 |    705\n",
    "     38 |    820\n",
    "     39 |    923\n",
    "     40 |   1140\n",
    "     41 |   1540\n",
    "     42 |   1688\n",
    "     43 |   2171\n",
    "     44 |   2671\n",
    "     45 |   3399\n",
    "     46 |   4111\n",
    "     47 |   5113\n",
    "     48 |   5935\n",
    "     49 |   7359\n",
    "     50 |   8067\n",
    "     51 |  10187\n",
    "     52 |  11331\n",
    "     53 |  13927\n",
    "     54 |  16639\n",
    "     55 |  20023\n",
    "     56 |  24801\n",
    "     57 |  28204\n",
    "     58 |  31764\n",
    "     59 |  35910\n",
    "     60 |  39682\n",
    "     61 |  72015\n",
    "     62 |  56732\n",
    "     63 |  60031\n",
    "     64 |  64882\n",
    "     65 |  70072\n",
    "     66 |  75636\n",
    "     67 |  80896\n",
    "     68 |  85478\n",
    "     69 |  89987\n",
    "     70 |  93048\n",
    "     71 | 131895\n",
    "     72 | 110900\n",
    "     73 | 111570\n",
    "     74 | 113506\n",
    "     75 | 116812\n",
    "     76 | 123603\n",
    "     77 | 122596\n",
    "     78 | 125059\n",
    "     79 | 127506\n",
    "     80 | 128996\n",
    "     81 | 183844\n",
    "     82 | 138563\n",
    "     83 | 138710\n",
    "     84 | 132463\n",
    "     85 | 137407\n",
    "     86 | 136331\n",
    "     87 | 131754\n",
    "     88 | 133914\n",
    "     89 | 145156\n",
    "     90 | 126826\n",
    "     91 | 144374\n",
    "     92 | 123734\n",
    "     93 | 121706\n",
    "     94 | 116311\n",
    "     95 | 114215\n",
    "     96 | 111028\n",
    "     97 | 108598\n",
    "     98 | 104131\n",
    "     99 | 100523\n",
    "    100 |  96580\n",
    "    101 |  93465\n",
    "    102 |  87804\n",
    "    103 |  84841\n",
    "    104 |  79609\n",
    "    105 |  76764\n",
    "    106 |  73448\n",
    "    107 |  69405\n",
    "    108 |  63849\n",
    "    109 |  63130\n",
    "    110 |  57881\n",
    "    111 |  55557\n",
    "    112 |  49844\n",
    "    113 |  49134\n",
    "    114 |  44713\n",
    "    115 |  42136\n",
    "    116 |  40511\n",
    "    117 |  34949\n",
    "    118 |  33804\n",
    "    119 |  32223\n",
    "    120 |  28567\n",
    "    121 |  28404\n",
    "    122 |  23878\n",
    "    123 |  22513\n",
    "    124 |  20547\n",
    "    125 |  19096\n",
    "    126 |  17204\n",
    "    127 |  16511\n",
    "    128 |  15032\n",
    "    129 |  14354\n",
    "    130 |  12189\n",
    "    131 |  11584\n",
    "    132 |   9907\n",
    "    133 |   9013\n",
    "    134 |   8210\n",
    "    135 |   7038\n",
    "    136 |   7005\n",
    "    137 |   5872\n",
    "    138 |   5609\n",
    "    139 |   4946\n",
    "    140 |   4106\n",
    "    141 |   4017\n",
    "    142 |   3283\n",
    "    143 |   3164\n",
    "    144 |   2843\n",
    "    145 |   2670\n",
    "    146 |   2373\n",
    "    147 |   1914\n",
    "    148 |   1825\n",
    "    149 |   1546\n",
    "    150 |   1499\n",
    "    151 |   1598\n",
    "    152 |   1210\n",
    "    153 |   1199\n",
    "    154 |    996\n",
    "    155 |    933\n",
    "    156 |    879\n",
    "    157 |    787\n",
    "    158 |    656\n",
    "    159 |    562\n",
    "    160 |    490\n",
    "    161 |    684\n",
    "    162 |    385\n",
    "    163 |    377\n",
    "    164 |    339\n",
    "    165 |    283\n",
    "    166 |    293\n",
    "    167 |    286\n",
    "    168 |    223\n",
    "    169 |    227\n",
    "    170 |    190\n",
    "    171 |    238\n",
    "    172 |    166\n",
    "    173 |    123\n",
    "    174 |    125\n",
    "    175 |     81\n",
    "    176 |    113\n",
    "    177 |     80\n",
    "    178 |     87\n",
    "    179 |     69\n",
    "    180 |     56\n",
    "    181 |    129\n",
    "    182 |     50\n",
    "    183 |     45\n",
    "    184 |     49\n",
    "    185 |     37\n",
    "    186 |     51\n",
    "    187 |     40\n",
    "    188 |     30\n",
    "    189 |     31\n",
    "    190 |     32\n",
    "    191 |     61\n",
    "    192 |     30\n",
    "    193 |     26\n",
    "    194 |     21\n",
    "    195 |     24\n",
    "    196 |     17\n",
    "    197 |     20\n",
    "    198 |     18\n",
    "    199 |     17\n",
    "    200 |     15\n",
    "    201 |     54\n",
    "    202 |     15\n",
    "    203 |      7\n",
    "    204 |      9\n",
    "    205 |     10\n",
    "    206 |     10\n",
    "    207 |     10\n",
    "    208 |      9\n",
    "    209 |     10\n",
    "    210 |      9\n",
    "    211 |     10\n",
    "    212 |     13\n",
    "    213 |     15\n",
    "    214 |      7\n",
    "    215 |      8\n",
    "    216 |      6\n",
    "    217 |     13\n",
    "    218 |      3\n",
    "    219 |      5\n",
    "    220 |      5\n",
    "    221 |     14\n",
    "    222 |      3\n",
    "    223 |      6\n",
    "    224 |      3\n",
    "    225 |      2\n",
    "    226 |      3\n",
    "    228 |      1\n",
    "    229 |      1\n",
    "    231 |      1\n",
    "    232 |      1\n",
    "    233 |      1\n",
    "    234 |      2\n",
    "    236 |      2\n",
    "    237 |      1\n",
    "    240 |      2\n",
    "    241 |      2\n",
    "    242 |      1\n",
    "    246 |      1\n",
    "    251 |      5\n",
    "    257 |      1\n",
    "    261 |      5\n",
    "    269 |      1\n",
    "    271 |      1\n",
    "    281 |      4\n",
    "    286 |      1\n",
    "    302 |     19\"\"\""
   ]
  },
  {
   "cell_type": "code",
   "execution_count": 44,
   "metadata": {
    "collapsed": false
   },
   "outputs": [],
   "source": [
    "list_hrs = hrs.split(\"\\n\")\n",
    "final_hr = []\n",
    "for hr in list_hrs:\n",
    "    hr = hr.strip().split(\" | \")\n",
    "    hr[0] = int(hr[0]) \n",
    "    hr[1] = int(hr[1])\n",
    "    final_hr.append(hr)\n",
    "final_hr = np.array(final_hr)"
   ]
  },
  {
   "cell_type": "code",
   "execution_count": 48,
   "metadata": {
    "collapsed": false
   },
   "outputs": [
    {
     "data": {
      "text/plain": [
       "<matplotlib.text.Text at 0xc9cfb38>"
      ]
     },
     "execution_count": 48,
     "metadata": {},
     "output_type": "execute_result"
    },
    {
     "data": {
      "image/png": "[encoded data removed]",
      "text/plain": [
       "<matplotlib.figure.Figure at 0x9fefd30>"
      ]
     },
     "metadata": {},
     "output_type": "display_data"
    }
   ],
   "source": [
    "plt.bar(final_hr[:-100, 0], final_hr[:-100, 1])\n",
    "plt.title(\"Histogram of HR in ICU\")\n",
    "plt.xlabel(\"HR (bpm)\")\n",
    "plt.ylabel(\"Number of patients\")"
   ]
  },
  {
   "cell_type": "code",
   "execution_count": null,
   "metadata": {
    "collapsed": true
   },
   "outputs": [],
   "source": []
  }
 ],
 "metadata": {
  "kernelspec": {
   "display_name": "Python 2",
   "language": "python",
   "name": "python2"
  },
  "language_info": {
   "codemirror_mode": {
    "name": "ipython",
    "version": 2
   },
   "file_extension": ".py",
   "mimetype": "text/x-python",
   "name": "python",
   "nbconvert_exporter": "python",
   "pygments_lexer": "ipython2",
   "version": "2.7.11"
  }
 },
 "nbformat": 4,
 "nbformat_minor": 0
}
